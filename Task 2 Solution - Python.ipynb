{
  "metadata": {
    "language_info": {
      "codemirror_mode": {
        "name": "python",
        "version": 3
      },
      "file_extension": ".py",
      "mimetype": "text/x-python",
      "name": "python",
      "nbconvert_exporter": "python",
      "pygments_lexer": "ipython3",
      "version": "3.8"
    },
    "kernelspec": {
      "name": "python",
      "display_name": "Python (Pyodide)",
      "language": "python"
    }
  },
  "nbformat_minor": 4,
  "nbformat": 4,
  "cells": [
    {
      "cell_type": "markdown",
      "source": "Code from 'Generate_data.py' to generate example data",
      "metadata": {}
    },
    {
      "cell_type": "code",
      "source": "import argparse\nimport csv\nimport datetime\nimport os\nimport random\nimport uuid\n\n\ndef generate_transactions(users):\n    num_transactions = 100000\n    num_users = len(users['data'])\n\n    header = [\n        'transaction_id',\n        'date',\n        'user_id',\n        'is_blocked',\n        'transaction_amount',\n        'transaction_category_id'\n    ]\n\n    data = [[\n        uuid.uuid4(),\n        (datetime.date.today() - datetime.timedelta(days=random.randint(int(i / num_users), 100))).strftime('%Y-%m-%d'),\n        users['data'][random.randint(0, num_users - 1)][0],\n        random.random() < 0.99,\n        '%.2f' % (random.random() * 100),\n        random.randint(0, 10)\n    ] for i in range(num_transactions)]\n\n    return {'header': header, 'data': data}\n\n\ndef generate_users():\n    num_users = 1000\n    header = [\n        'user_id',\n        'is_active'\n    ]\n\n    data = [[\n        uuid.uuid4(),\n        random.random() < 0.9\n    ] for _ in range(num_users)]\n\n    return {'header': header, 'data': data}\n\n\ndef write_data(out, header, data):\n    if os.path.exists(out):\n        print('File %s already exists!' % out)\n        return False\n\n    try:\n        with open(out, 'w') as f:\n          writer = csv.writer(f)\n          writer.writerow(header)\n          writer.writerows(data)\n    except Exception as err:\n        print('Failed to write %s' % out)\n        return False\n    return True\n\n\nif __name__ == '__main__':\n    users = generate_users()\n    transactions = generate_transactions(users)\n\n    write_data('users.csv', users['header'], users['data'])\n    write_data('transactions.csv', transactions['header'], transactions['data'])\n",
      "metadata": {
        "trusted": true
      },
      "execution_count": 1,
      "outputs": []
    },
    {
      "cell_type": "markdown",
      "source": "TASK 2 SOLUTION(PYTHON)",
      "metadata": {}
    },
    {
      "cell_type": "code",
      "source": "#Import standard libraries\nimport pandas as pd\nimport numpy as np\nimport sys \n\n#Creating pandas df for sample datasets\n\ntransactions = pd.read_csv(\"transactions.csv\")\nusers = pd.read_csv(\"users.csv\")\n\n#Merge transactions with users df\ndf_users_trans = pd.merge(transactions, users, how = 'inner', on = 'user_id').drop_duplicates(subset=None, keep='first', inplace=False)\n\n#Filtering dataset for False blocked users and true active users\ndf_users_trans_filt = df_users_trans[(df_users_trans['is_blocked'] == 0) & (df_users_trans['is_active'] == 1)]\n\n#Aggregating to get sum of transaction amount and number of users sorted by descending sum amount\ndf_users_trans_filt_grp = df_users_trans_filt.groupby('transaction_category_id').agg(sum_amount=('transaction_amount', 'sum'),\n    num_users=('user_id', 'nunique')).sort_values(by='sum_amount', ascending=False)\n\n#Print using stdout\n\nprint(df_users_trans_filt_grp)\n\n#Display tabular version of results\n\ndisplay(df_users_trans_filt_grp)",
      "metadata": {
        "trusted": true
      },
      "execution_count": 29,
      "outputs": [
        {
          "name": "stdout",
          "text": "                         sum_amount  num_users\ntransaction_category_id                       \n0                           4761.68         89\n5                           4504.52         82\n9                           4397.26         75\n2                           4345.35         85\n10                          4266.97         83\n4                           4234.57         79\n6                           4145.43         81\n1                           3802.57         75\n8                           3632.69         70\n3                           3437.64         73\n7                           3211.45         65\n",
          "output_type": "stream"
        },
        {
          "output_type": "display_data",
          "data": {
            "text/plain": "                         sum_amount  num_users\ntransaction_category_id                       \n0                           4761.68         89\n5                           4504.52         82\n9                           4397.26         75\n2                           4345.35         85\n10                          4266.97         83\n4                           4234.57         79\n6                           4145.43         81\n1                           3802.57         75\n8                           3632.69         70\n3                           3437.64         73\n7                           3211.45         65",
            "text/html": "<div>\n<style scoped>\n    .dataframe tbody tr th:only-of-type {\n        vertical-align: middle;\n    }\n\n    .dataframe tbody tr th {\n        vertical-align: top;\n    }\n\n    .dataframe thead th {\n        text-align: right;\n    }\n</style>\n<table border=\"1\" class=\"dataframe\">\n  <thead>\n    <tr style=\"text-align: right;\">\n      <th></th>\n      <th>sum_amount</th>\n      <th>num_users</th>\n    </tr>\n    <tr>\n      <th>transaction_category_id</th>\n      <th></th>\n      <th></th>\n    </tr>\n  </thead>\n  <tbody>\n    <tr>\n      <th>0</th>\n      <td>4761.68</td>\n      <td>89</td>\n    </tr>\n    <tr>\n      <th>5</th>\n      <td>4504.52</td>\n      <td>82</td>\n    </tr>\n    <tr>\n      <th>9</th>\n      <td>4397.26</td>\n      <td>75</td>\n    </tr>\n    <tr>\n      <th>2</th>\n      <td>4345.35</td>\n      <td>85</td>\n    </tr>\n    <tr>\n      <th>10</th>\n      <td>4266.97</td>\n      <td>83</td>\n    </tr>\n    <tr>\n      <th>4</th>\n      <td>4234.57</td>\n      <td>79</td>\n    </tr>\n    <tr>\n      <th>6</th>\n      <td>4145.43</td>\n      <td>81</td>\n    </tr>\n    <tr>\n      <th>1</th>\n      <td>3802.57</td>\n      <td>75</td>\n    </tr>\n    <tr>\n      <th>8</th>\n      <td>3632.69</td>\n      <td>70</td>\n    </tr>\n    <tr>\n      <th>3</th>\n      <td>3437.64</td>\n      <td>73</td>\n    </tr>\n    <tr>\n      <th>7</th>\n      <td>3211.45</td>\n      <td>65</td>\n    </tr>\n  </tbody>\n</table>\n</div>"
          },
          "metadata": {}
        }
      ]
    },
    {
      "cell_type": "markdown",
      "source": "SOLUTION ENDS HERE",
      "metadata": {}
    },
    {
      "cell_type": "markdown",
      "source": "Extra Intermediate data sanity checks",
      "metadata": {}
    },
    {
      "cell_type": "code",
      "source": "users.head()",
      "metadata": {
        "trusted": true
      },
      "execution_count": 18,
      "outputs": [
        {
          "execution_count": 18,
          "output_type": "execute_result",
          "data": {
            "text/plain": "                                user_id  is_active\n0  ef6f9e33-3acb-4f2d-8989-42d09e48c63d       True\n1  78a16ed5-f372-4994-99b7-52d40911489b       True\n2  f335e8da-7225-4cce-a380-28462448e330       True\n3  44229f0c-4d52-495e-b52c-52545da73b77       True\n4  3a1f6fbf-4ae7-4616-807e-51f6de9153b8       True",
            "text/html": "<div>\n<style scoped>\n    .dataframe tbody tr th:only-of-type {\n        vertical-align: middle;\n    }\n\n    .dataframe tbody tr th {\n        vertical-align: top;\n    }\n\n    .dataframe thead th {\n        text-align: right;\n    }\n</style>\n<table border=\"1\" class=\"dataframe\">\n  <thead>\n    <tr style=\"text-align: right;\">\n      <th></th>\n      <th>user_id</th>\n      <th>is_active</th>\n    </tr>\n  </thead>\n  <tbody>\n    <tr>\n      <th>0</th>\n      <td>ef6f9e33-3acb-4f2d-8989-42d09e48c63d</td>\n      <td>True</td>\n    </tr>\n    <tr>\n      <th>1</th>\n      <td>78a16ed5-f372-4994-99b7-52d40911489b</td>\n      <td>True</td>\n    </tr>\n    <tr>\n      <th>2</th>\n      <td>f335e8da-7225-4cce-a380-28462448e330</td>\n      <td>True</td>\n    </tr>\n    <tr>\n      <th>3</th>\n      <td>44229f0c-4d52-495e-b52c-52545da73b77</td>\n      <td>True</td>\n    </tr>\n    <tr>\n      <th>4</th>\n      <td>3a1f6fbf-4ae7-4616-807e-51f6de9153b8</td>\n      <td>True</td>\n    </tr>\n  </tbody>\n</table>\n</div>"
          },
          "metadata": {}
        }
      ]
    },
    {
      "cell_type": "code",
      "source": "transactions.head(50)",
      "metadata": {
        "trusted": true
      },
      "execution_count": 36,
      "outputs": [
        {
          "execution_count": 36,
          "output_type": "execute_result",
          "data": {
            "text/plain": "                          transaction_id        date  \\\n0   68f48913-8ff7-48ed-a674-694a25e8f014  2023-02-08   \n1   d5a43690-74a8-4ed4-af39-75a46b34a33d  2023-01-04   \n2   a315e693-b731-4cfa-8150-3b6d19a8f296  2022-12-25   \n3   7bcf974a-6aba-4012-b463-d23086b27408  2022-11-17   \n4   b12f9cf9-94ce-4bc4-a645-076a88c5a7d2  2023-02-05   \n5   724e79a5-1000-4903-aa8b-af2513237d72  2022-12-05   \n6   d1b55ae3-8c8c-40ce-b33e-8eed816a059b  2022-12-19   \n7   d397d107-0b34-4c75-8d82-d44a24385bf1  2023-02-05   \n8   7bd032bd-199f-451d-afc0-fbf3a83d1e6c  2023-01-10   \n9   fc7fe935-93e9-4f07-8e26-05f81a043ac7  2022-11-24   \n10  11189eb7-5b27-48f8-a352-fbc89b8bea91  2023-01-01   \n11  cba1f7b1-4b00-4286-bdba-7a0bb4be1438  2022-12-26   \n12  ed6d104e-8279-4281-ba93-559e42c33873  2022-12-29   \n13  0400bcd4-98d3-4028-a2c7-a2197ba7cff8  2023-01-05   \n14  87860212-7345-444d-b979-ecd4f38adbb0  2022-12-09   \n15  690a780d-4c01-4309-9ede-88ac2580d57b  2023-01-23   \n16  8f2895cd-8fe9-4d57-9dc9-9d39358b6fd3  2022-12-22   \n17  7297ace1-28d7-4b45-9eb0-e5b4f607b4af  2023-01-16   \n18  945f590b-eeb2-479e-9d47-6ed931bd268b  2022-11-08   \n19  c8d4b2ce-3cbe-4f6b-901c-84174c82ef0c  2023-01-02   \n20  e3474b9f-9b68-4b8e-82b1-ea3ff7571f1a  2023-02-14   \n21  3a108279-812e-4398-93bc-0fd5f32c61cd  2022-11-29   \n22  1f18d921-922f-49c7-a5f5-fd2922a1774d  2022-12-21   \n23  93461d52-35b7-4e15-8783-286168464210  2022-11-24   \n24  1bcc52fe-9077-4c38-a7af-3a88ede6bba2  2023-01-19   \n25  f9e2bcc6-f888-42f7-9e18-168af06461d4  2022-11-24   \n26  9f9c7687-02f7-4a1d-a780-29fbc9073aae  2022-12-01   \n27  7df2f195-86c0-41a1-8267-1cea464fcadc  2023-01-18   \n28  838318b3-a546-4a8c-a970-0d322101a4c9  2023-01-06   \n29  c4396474-96ca-49d9-94d1-34659be80615  2023-01-04   \n30  8d7a85be-c06b-4e94-bc40-ea0bb784e732  2023-01-07   \n31  a5326c4a-9c10-458f-b23a-7dcf01aec2fb  2022-11-27   \n32  bba0f2e9-f51a-493f-abb4-f8dca2c724dc  2023-01-10   \n33  35ffc717-c903-4ea2-b5a2-5718cd9167bc  2023-02-12   \n34  ba6715f2-7c61-41b4-831e-01ff2d9d85c5  2022-12-07   \n35  8fbed728-ec5d-42bf-ad15-db5f036b7bd2  2022-12-19   \n36  f05b3e5d-3ba1-42db-9df4-caf38af66aca  2022-11-16   \n37  35902343-aaab-401c-ac1a-9577a1824ad6  2022-12-20   \n38  817ec1ea-7651-473c-bd9c-30dd313e986e  2023-01-24   \n39  0ea3e7b2-56be-4c4d-8e33-f8ad1311abf7  2022-12-02   \n40  0dd8a452-fdb6-42e6-a455-c0c1e5183f4c  2022-11-27   \n41  5f495700-8d97-47cf-aed8-6e9a3cd06e80  2022-11-24   \n42  d843f60a-62f9-49dd-8bb6-e62922b83e5c  2023-02-08   \n43  75d580c9-2ec0-4766-8229-a2b9a697724f  2023-01-17   \n44  278ea4d3-ba8e-4d31-9f8c-3a8beb93490a  2023-01-18   \n45  3eafbcb5-749a-498c-9af3-a779c9ec9139  2023-01-29   \n46  772da31c-6218-4251-9725-0f20480c6260  2022-12-18   \n47  82d6c41e-b054-4985-879c-76d7f86968b2  2023-01-22   \n48  3dcc373b-3014-44cf-ab05-90d0c0b768f8  2022-11-09   \n49  6d72cb36-677d-4526-b48c-b22cfd281f36  2023-01-19   \n\n                                 user_id  is_blocked  transaction_amount  \\\n0   b3fe5fc1-3b75-41c6-aff0-3f6aa07c42bd        True               57.72   \n1   def778ac-6297-4891-ad12-8b9b5e5ce408        True               45.94   \n2   13d093a6-9c33-4f02-8005-430d5c3e55bb        True               44.75   \n3   3fabfca4-e974-4572-a159-bca2feab4175        True               76.88   \n4   ec860e38-a8c9-496d-be8d-1aa74c09b7eb        True               60.77   \n5   0044c822-972c-4712-8f3f-6795674eae1d        True               79.03   \n6   49d971c5-1838-4a5b-aa94-13640f5d8f53        True               49.23   \n7   06ab1c1e-9796-44f2-b598-2b59c9c12c55        True               94.20   \n8   aa611572-e1db-4fac-8c1a-229ab219f12f        True               43.28   \n9   de566941-5f96-49e8-b84c-e78be7af0bf3        True               52.25   \n10  e4757c54-5119-4ef1-95e3-5c762f23ebb0        True               90.75   \n11  10cdeaa6-8fc7-4ce9-a3cd-6db5a711c36a        True               18.64   \n12  6be04c1b-97e7-453e-8aec-3f2e583b8948        True               69.06   \n13  3ab8c7d4-07f6-41fc-a0be-72dc0d264af5        True               75.92   \n14  758b5489-da15-4441-b1ba-800197ca5ecd        True               69.19   \n15  8f49eadc-9412-4618-bd39-135c131e5aba        True               37.33   \n16  1456c3fa-4726-4688-8fe3-37543988ef70        True               15.49   \n17  9de87cfe-f3eb-4db9-8398-40ac079a8cf3        True               81.72   \n18  0092e58c-171c-4504-b357-f5e8dfadd582        True               99.40   \n19  26b80461-8c5c-4648-9c33-2a7fc27598a9        True               90.50   \n20  bfd33c2f-649a-4e79-a4eb-4aa2dea0a0aa        True               32.62   \n21  27e768b8-27e9-4160-af95-ee20912af725        True               85.52   \n22  812c36ac-5fcd-407f-a87f-16ad3b0dcd84        True               68.49   \n23  f7763f62-b079-4abb-aa98-94455bef274d        True               47.26   \n24  8b9761ac-4484-40c8-943d-653b7a078d93        True               14.39   \n25  8bf90bfd-8f0f-4409-9f76-470e1a306ded        True               21.19   \n26  98373f7b-6fa8-4d9d-982d-2fab63e479bb        True               20.35   \n27  f6e62df3-cdf8-4e2d-ba3b-3eb983e7b792        True               59.16   \n28  117f88e0-ca4b-4431-abec-57011dc4cdc1        True               22.90   \n29  7cb294e4-703c-45ce-9c53-0ec43a47aa20        True               91.98   \n30  ae9dc0e9-2141-49f3-95dc-62aa14a8059b        True               21.65   \n31  2e833351-c718-47da-898f-513098e3b318        True               61.72   \n32  23cc3573-8c9c-46ad-9f4c-43d625815416        True               77.83   \n33  f55b6684-c67e-4202-9cc4-43aa7c5f0413        True               98.02   \n34  405f85ed-6054-436a-9334-93397a263337        True               90.68   \n35  f6fd23d6-af15-41ff-866d-2e5e847d0c42        True               49.61   \n36  62f17da7-1748-44ba-a3d2-7bea29adf665        True               86.07   \n37  f8ede7bf-b3fa-42b5-a586-6c5dd639f228        True               62.70   \n38  f4627316-7501-47c6-9078-fb2573d95430        True               77.48   \n39  53315b4d-734e-42ab-bc3c-6e63f2bebabe        True               89.08   \n40  a8d81349-5241-4576-a07e-384eeb9dfaaf        True               82.33   \n41  5c75cae8-0ba9-4dc5-9175-63faf1bb3d39        True               30.30   \n42  c6c9cbb3-1b2b-490d-b293-ac5a7d8142a3        True                6.18   \n43  26608494-d1a2-4f65-8324-29f86f54b5f7        True               67.12   \n44  8c1e292f-1dea-4060-8669-84f91ba1574d        True               84.62   \n45  a2c33c64-6247-4252-993d-500b3b5ecf42        True               65.62   \n46  45b58878-089f-45b5-af2f-34709a9368b0        True               72.15   \n47  fbb6564a-12eb-43b3-8703-2c6c9fa55026        True               73.73   \n48  1f876c7d-ea78-495b-9670-226c2913ab89        True               87.76   \n49  51f645fa-4c27-4fea-9372-10f1fd1ee58b        True               55.17   \n\n    transaction_category_id  \n0                         2  \n1                         4  \n2                        10  \n3                        10  \n4                        10  \n5                         9  \n6                         2  \n7                         3  \n8                         3  \n9                         8  \n10                        4  \n11                       10  \n12                        6  \n13                        8  \n14                        8  \n15                        7  \n16                        5  \n17                        1  \n18                        3  \n19                        5  \n20                        8  \n21                        8  \n22                        5  \n23                        4  \n24                        4  \n25                       10  \n26                        8  \n27                        6  \n28                        5  \n29                        1  \n30                        5  \n31                        2  \n32                        6  \n33                        3  \n34                        9  \n35                        0  \n36                        9  \n37                        8  \n38                        6  \n39                        1  \n40                        2  \n41                        5  \n42                        2  \n43                        1  \n44                        4  \n45                        8  \n46                        5  \n47                        8  \n48                        0  \n49                        0  ",
            "text/html": "<div>\n<style scoped>\n    .dataframe tbody tr th:only-of-type {\n        vertical-align: middle;\n    }\n\n    .dataframe tbody tr th {\n        vertical-align: top;\n    }\n\n    .dataframe thead th {\n        text-align: right;\n    }\n</style>\n<table border=\"1\" class=\"dataframe\">\n  <thead>\n    <tr style=\"text-align: right;\">\n      <th></th>\n      <th>transaction_id</th>\n      <th>date</th>\n      <th>user_id</th>\n      <th>is_blocked</th>\n      <th>transaction_amount</th>\n      <th>transaction_category_id</th>\n    </tr>\n  </thead>\n  <tbody>\n    <tr>\n      <th>0</th>\n      <td>68f48913-8ff7-48ed-a674-694a25e8f014</td>\n      <td>2023-02-08</td>\n      <td>b3fe5fc1-3b75-41c6-aff0-3f6aa07c42bd</td>\n      <td>True</td>\n      <td>57.72</td>\n      <td>2</td>\n    </tr>\n    <tr>\n      <th>1</th>\n      <td>d5a43690-74a8-4ed4-af39-75a46b34a33d</td>\n      <td>2023-01-04</td>\n      <td>def778ac-6297-4891-ad12-8b9b5e5ce408</td>\n      <td>True</td>\n      <td>45.94</td>\n      <td>4</td>\n    </tr>\n    <tr>\n      <th>2</th>\n      <td>a315e693-b731-4cfa-8150-3b6d19a8f296</td>\n      <td>2022-12-25</td>\n      <td>13d093a6-9c33-4f02-8005-430d5c3e55bb</td>\n      <td>True</td>\n      <td>44.75</td>\n      <td>10</td>\n    </tr>\n    <tr>\n      <th>3</th>\n      <td>7bcf974a-6aba-4012-b463-d23086b27408</td>\n      <td>2022-11-17</td>\n      <td>3fabfca4-e974-4572-a159-bca2feab4175</td>\n      <td>True</td>\n      <td>76.88</td>\n      <td>10</td>\n    </tr>\n    <tr>\n      <th>4</th>\n      <td>b12f9cf9-94ce-4bc4-a645-076a88c5a7d2</td>\n      <td>2023-02-05</td>\n      <td>ec860e38-a8c9-496d-be8d-1aa74c09b7eb</td>\n      <td>True</td>\n      <td>60.77</td>\n      <td>10</td>\n    </tr>\n    <tr>\n      <th>5</th>\n      <td>724e79a5-1000-4903-aa8b-af2513237d72</td>\n      <td>2022-12-05</td>\n      <td>0044c822-972c-4712-8f3f-6795674eae1d</td>\n      <td>True</td>\n      <td>79.03</td>\n      <td>9</td>\n    </tr>\n    <tr>\n      <th>6</th>\n      <td>d1b55ae3-8c8c-40ce-b33e-8eed816a059b</td>\n      <td>2022-12-19</td>\n      <td>49d971c5-1838-4a5b-aa94-13640f5d8f53</td>\n      <td>True</td>\n      <td>49.23</td>\n      <td>2</td>\n    </tr>\n    <tr>\n      <th>7</th>\n      <td>d397d107-0b34-4c75-8d82-d44a24385bf1</td>\n      <td>2023-02-05</td>\n      <td>06ab1c1e-9796-44f2-b598-2b59c9c12c55</td>\n      <td>True</td>\n      <td>94.20</td>\n      <td>3</td>\n    </tr>\n    <tr>\n      <th>8</th>\n      <td>7bd032bd-199f-451d-afc0-fbf3a83d1e6c</td>\n      <td>2023-01-10</td>\n      <td>aa611572-e1db-4fac-8c1a-229ab219f12f</td>\n      <td>True</td>\n      <td>43.28</td>\n      <td>3</td>\n    </tr>\n    <tr>\n      <th>9</th>\n      <td>fc7fe935-93e9-4f07-8e26-05f81a043ac7</td>\n      <td>2022-11-24</td>\n      <td>de566941-5f96-49e8-b84c-e78be7af0bf3</td>\n      <td>True</td>\n      <td>52.25</td>\n      <td>8</td>\n    </tr>\n    <tr>\n      <th>10</th>\n      <td>11189eb7-5b27-48f8-a352-fbc89b8bea91</td>\n      <td>2023-01-01</td>\n      <td>e4757c54-5119-4ef1-95e3-5c762f23ebb0</td>\n      <td>True</td>\n      <td>90.75</td>\n      <td>4</td>\n    </tr>\n    <tr>\n      <th>11</th>\n      <td>cba1f7b1-4b00-4286-bdba-7a0bb4be1438</td>\n      <td>2022-12-26</td>\n      <td>10cdeaa6-8fc7-4ce9-a3cd-6db5a711c36a</td>\n      <td>True</td>\n      <td>18.64</td>\n      <td>10</td>\n    </tr>\n    <tr>\n      <th>12</th>\n      <td>ed6d104e-8279-4281-ba93-559e42c33873</td>\n      <td>2022-12-29</td>\n      <td>6be04c1b-97e7-453e-8aec-3f2e583b8948</td>\n      <td>True</td>\n      <td>69.06</td>\n      <td>6</td>\n    </tr>\n    <tr>\n      <th>13</th>\n      <td>0400bcd4-98d3-4028-a2c7-a2197ba7cff8</td>\n      <td>2023-01-05</td>\n      <td>3ab8c7d4-07f6-41fc-a0be-72dc0d264af5</td>\n      <td>True</td>\n      <td>75.92</td>\n      <td>8</td>\n    </tr>\n    <tr>\n      <th>14</th>\n      <td>87860212-7345-444d-b979-ecd4f38adbb0</td>\n      <td>2022-12-09</td>\n      <td>758b5489-da15-4441-b1ba-800197ca5ecd</td>\n      <td>True</td>\n      <td>69.19</td>\n      <td>8</td>\n    </tr>\n    <tr>\n      <th>15</th>\n      <td>690a780d-4c01-4309-9ede-88ac2580d57b</td>\n      <td>2023-01-23</td>\n      <td>8f49eadc-9412-4618-bd39-135c131e5aba</td>\n      <td>True</td>\n      <td>37.33</td>\n      <td>7</td>\n    </tr>\n    <tr>\n      <th>16</th>\n      <td>8f2895cd-8fe9-4d57-9dc9-9d39358b6fd3</td>\n      <td>2022-12-22</td>\n      <td>1456c3fa-4726-4688-8fe3-37543988ef70</td>\n      <td>True</td>\n      <td>15.49</td>\n      <td>5</td>\n    </tr>\n    <tr>\n      <th>17</th>\n      <td>7297ace1-28d7-4b45-9eb0-e5b4f607b4af</td>\n      <td>2023-01-16</td>\n      <td>9de87cfe-f3eb-4db9-8398-40ac079a8cf3</td>\n      <td>True</td>\n      <td>81.72</td>\n      <td>1</td>\n    </tr>\n    <tr>\n      <th>18</th>\n      <td>945f590b-eeb2-479e-9d47-6ed931bd268b</td>\n      <td>2022-11-08</td>\n      <td>0092e58c-171c-4504-b357-f5e8dfadd582</td>\n      <td>True</td>\n      <td>99.40</td>\n      <td>3</td>\n    </tr>\n    <tr>\n      <th>19</th>\n      <td>c8d4b2ce-3cbe-4f6b-901c-84174c82ef0c</td>\n      <td>2023-01-02</td>\n      <td>26b80461-8c5c-4648-9c33-2a7fc27598a9</td>\n      <td>True</td>\n      <td>90.50</td>\n      <td>5</td>\n    </tr>\n    <tr>\n      <th>20</th>\n      <td>e3474b9f-9b68-4b8e-82b1-ea3ff7571f1a</td>\n      <td>2023-02-14</td>\n      <td>bfd33c2f-649a-4e79-a4eb-4aa2dea0a0aa</td>\n      <td>True</td>\n      <td>32.62</td>\n      <td>8</td>\n    </tr>\n    <tr>\n      <th>21</th>\n      <td>3a108279-812e-4398-93bc-0fd5f32c61cd</td>\n      <td>2022-11-29</td>\n      <td>27e768b8-27e9-4160-af95-ee20912af725</td>\n      <td>True</td>\n      <td>85.52</td>\n      <td>8</td>\n    </tr>\n    <tr>\n      <th>22</th>\n      <td>1f18d921-922f-49c7-a5f5-fd2922a1774d</td>\n      <td>2022-12-21</td>\n      <td>812c36ac-5fcd-407f-a87f-16ad3b0dcd84</td>\n      <td>True</td>\n      <td>68.49</td>\n      <td>5</td>\n    </tr>\n    <tr>\n      <th>23</th>\n      <td>93461d52-35b7-4e15-8783-286168464210</td>\n      <td>2022-11-24</td>\n      <td>f7763f62-b079-4abb-aa98-94455bef274d</td>\n      <td>True</td>\n      <td>47.26</td>\n      <td>4</td>\n    </tr>\n    <tr>\n      <th>24</th>\n      <td>1bcc52fe-9077-4c38-a7af-3a88ede6bba2</td>\n      <td>2023-01-19</td>\n      <td>8b9761ac-4484-40c8-943d-653b7a078d93</td>\n      <td>True</td>\n      <td>14.39</td>\n      <td>4</td>\n    </tr>\n    <tr>\n      <th>25</th>\n      <td>f9e2bcc6-f888-42f7-9e18-168af06461d4</td>\n      <td>2022-11-24</td>\n      <td>8bf90bfd-8f0f-4409-9f76-470e1a306ded</td>\n      <td>True</td>\n      <td>21.19</td>\n      <td>10</td>\n    </tr>\n    <tr>\n      <th>26</th>\n      <td>9f9c7687-02f7-4a1d-a780-29fbc9073aae</td>\n      <td>2022-12-01</td>\n      <td>98373f7b-6fa8-4d9d-982d-2fab63e479bb</td>\n      <td>True</td>\n      <td>20.35</td>\n      <td>8</td>\n    </tr>\n    <tr>\n      <th>27</th>\n      <td>7df2f195-86c0-41a1-8267-1cea464fcadc</td>\n      <td>2023-01-18</td>\n      <td>f6e62df3-cdf8-4e2d-ba3b-3eb983e7b792</td>\n      <td>True</td>\n      <td>59.16</td>\n      <td>6</td>\n    </tr>\n    <tr>\n      <th>28</th>\n      <td>838318b3-a546-4a8c-a970-0d322101a4c9</td>\n      <td>2023-01-06</td>\n      <td>117f88e0-ca4b-4431-abec-57011dc4cdc1</td>\n      <td>True</td>\n      <td>22.90</td>\n      <td>5</td>\n    </tr>\n    <tr>\n      <th>29</th>\n      <td>c4396474-96ca-49d9-94d1-34659be80615</td>\n      <td>2023-01-04</td>\n      <td>7cb294e4-703c-45ce-9c53-0ec43a47aa20</td>\n      <td>True</td>\n      <td>91.98</td>\n      <td>1</td>\n    </tr>\n    <tr>\n      <th>30</th>\n      <td>8d7a85be-c06b-4e94-bc40-ea0bb784e732</td>\n      <td>2023-01-07</td>\n      <td>ae9dc0e9-2141-49f3-95dc-62aa14a8059b</td>\n      <td>True</td>\n      <td>21.65</td>\n      <td>5</td>\n    </tr>\n    <tr>\n      <th>31</th>\n      <td>a5326c4a-9c10-458f-b23a-7dcf01aec2fb</td>\n      <td>2022-11-27</td>\n      <td>2e833351-c718-47da-898f-513098e3b318</td>\n      <td>True</td>\n      <td>61.72</td>\n      <td>2</td>\n    </tr>\n    <tr>\n      <th>32</th>\n      <td>bba0f2e9-f51a-493f-abb4-f8dca2c724dc</td>\n      <td>2023-01-10</td>\n      <td>23cc3573-8c9c-46ad-9f4c-43d625815416</td>\n      <td>True</td>\n      <td>77.83</td>\n      <td>6</td>\n    </tr>\n    <tr>\n      <th>33</th>\n      <td>35ffc717-c903-4ea2-b5a2-5718cd9167bc</td>\n      <td>2023-02-12</td>\n      <td>f55b6684-c67e-4202-9cc4-43aa7c5f0413</td>\n      <td>True</td>\n      <td>98.02</td>\n      <td>3</td>\n    </tr>\n    <tr>\n      <th>34</th>\n      <td>ba6715f2-7c61-41b4-831e-01ff2d9d85c5</td>\n      <td>2022-12-07</td>\n      <td>405f85ed-6054-436a-9334-93397a263337</td>\n      <td>True</td>\n      <td>90.68</td>\n      <td>9</td>\n    </tr>\n    <tr>\n      <th>35</th>\n      <td>8fbed728-ec5d-42bf-ad15-db5f036b7bd2</td>\n      <td>2022-12-19</td>\n      <td>f6fd23d6-af15-41ff-866d-2e5e847d0c42</td>\n      <td>True</td>\n      <td>49.61</td>\n      <td>0</td>\n    </tr>\n    <tr>\n      <th>36</th>\n      <td>f05b3e5d-3ba1-42db-9df4-caf38af66aca</td>\n      <td>2022-11-16</td>\n      <td>62f17da7-1748-44ba-a3d2-7bea29adf665</td>\n      <td>True</td>\n      <td>86.07</td>\n      <td>9</td>\n    </tr>\n    <tr>\n      <th>37</th>\n      <td>35902343-aaab-401c-ac1a-9577a1824ad6</td>\n      <td>2022-12-20</td>\n      <td>f8ede7bf-b3fa-42b5-a586-6c5dd639f228</td>\n      <td>True</td>\n      <td>62.70</td>\n      <td>8</td>\n    </tr>\n    <tr>\n      <th>38</th>\n      <td>817ec1ea-7651-473c-bd9c-30dd313e986e</td>\n      <td>2023-01-24</td>\n      <td>f4627316-7501-47c6-9078-fb2573d95430</td>\n      <td>True</td>\n      <td>77.48</td>\n      <td>6</td>\n    </tr>\n    <tr>\n      <th>39</th>\n      <td>0ea3e7b2-56be-4c4d-8e33-f8ad1311abf7</td>\n      <td>2022-12-02</td>\n      <td>53315b4d-734e-42ab-bc3c-6e63f2bebabe</td>\n      <td>True</td>\n      <td>89.08</td>\n      <td>1</td>\n    </tr>\n    <tr>\n      <th>40</th>\n      <td>0dd8a452-fdb6-42e6-a455-c0c1e5183f4c</td>\n      <td>2022-11-27</td>\n      <td>a8d81349-5241-4576-a07e-384eeb9dfaaf</td>\n      <td>True</td>\n      <td>82.33</td>\n      <td>2</td>\n    </tr>\n    <tr>\n      <th>41</th>\n      <td>5f495700-8d97-47cf-aed8-6e9a3cd06e80</td>\n      <td>2022-11-24</td>\n      <td>5c75cae8-0ba9-4dc5-9175-63faf1bb3d39</td>\n      <td>True</td>\n      <td>30.30</td>\n      <td>5</td>\n    </tr>\n    <tr>\n      <th>42</th>\n      <td>d843f60a-62f9-49dd-8bb6-e62922b83e5c</td>\n      <td>2023-02-08</td>\n      <td>c6c9cbb3-1b2b-490d-b293-ac5a7d8142a3</td>\n      <td>True</td>\n      <td>6.18</td>\n      <td>2</td>\n    </tr>\n    <tr>\n      <th>43</th>\n      <td>75d580c9-2ec0-4766-8229-a2b9a697724f</td>\n      <td>2023-01-17</td>\n      <td>26608494-d1a2-4f65-8324-29f86f54b5f7</td>\n      <td>True</td>\n      <td>67.12</td>\n      <td>1</td>\n    </tr>\n    <tr>\n      <th>44</th>\n      <td>278ea4d3-ba8e-4d31-9f8c-3a8beb93490a</td>\n      <td>2023-01-18</td>\n      <td>8c1e292f-1dea-4060-8669-84f91ba1574d</td>\n      <td>True</td>\n      <td>84.62</td>\n      <td>4</td>\n    </tr>\n    <tr>\n      <th>45</th>\n      <td>3eafbcb5-749a-498c-9af3-a779c9ec9139</td>\n      <td>2023-01-29</td>\n      <td>a2c33c64-6247-4252-993d-500b3b5ecf42</td>\n      <td>True</td>\n      <td>65.62</td>\n      <td>8</td>\n    </tr>\n    <tr>\n      <th>46</th>\n      <td>772da31c-6218-4251-9725-0f20480c6260</td>\n      <td>2022-12-18</td>\n      <td>45b58878-089f-45b5-af2f-34709a9368b0</td>\n      <td>True</td>\n      <td>72.15</td>\n      <td>5</td>\n    </tr>\n    <tr>\n      <th>47</th>\n      <td>82d6c41e-b054-4985-879c-76d7f86968b2</td>\n      <td>2023-01-22</td>\n      <td>fbb6564a-12eb-43b3-8703-2c6c9fa55026</td>\n      <td>True</td>\n      <td>73.73</td>\n      <td>8</td>\n    </tr>\n    <tr>\n      <th>48</th>\n      <td>3dcc373b-3014-44cf-ab05-90d0c0b768f8</td>\n      <td>2022-11-09</td>\n      <td>1f876c7d-ea78-495b-9670-226c2913ab89</td>\n      <td>True</td>\n      <td>87.76</td>\n      <td>0</td>\n    </tr>\n    <tr>\n      <th>49</th>\n      <td>6d72cb36-677d-4526-b48c-b22cfd281f36</td>\n      <td>2023-01-19</td>\n      <td>51f645fa-4c27-4fea-9372-10f1fd1ee58b</td>\n      <td>True</td>\n      <td>55.17</td>\n      <td>0</td>\n    </tr>\n  </tbody>\n</table>\n</div>"
          },
          "metadata": {}
        }
      ]
    },
    {
      "cell_type": "code",
      "source": "transactions.columns",
      "metadata": {
        "trusted": true
      },
      "execution_count": 35,
      "outputs": [
        {
          "execution_count": 35,
          "output_type": "execute_result",
          "data": {
            "text/plain": "Index(['transaction_id', 'date', 'user_id', 'is_blocked', 'transaction_amount',\n       'transaction_category_id'],\n      dtype='object')"
          },
          "metadata": {}
        }
      ]
    },
    {
      "cell_type": "code",
      "source": "df_users_trans.head(20)",
      "metadata": {
        "trusted": true
      },
      "execution_count": 33,
      "outputs": [
        {
          "execution_count": 33,
          "output_type": "execute_result",
          "data": {
            "text/plain": "                          transaction_id        date  \\\n0   68f48913-8ff7-48ed-a674-694a25e8f014  2023-02-08   \n1   9159aee1-33f8-485e-909d-e44d0aeb0b50  2022-12-06   \n2   d19ab32a-dd56-4e1a-9070-f074536643b5  2023-01-19   \n3   32d6d663-09fa-465e-b221-c2df35a7687f  2023-01-25   \n4   e8d68603-cd6b-4726-89fc-adc784a15042  2022-12-21   \n5   89e1861c-f630-4f45-9fc7-ede9512245b8  2023-01-12   \n6   c477c21f-c260-4b2c-9ba3-6e1a90a1071e  2022-12-25   \n7   64dde5d1-8e47-4eea-ac77-84b6cef71289  2023-01-18   \n8   bae555fc-6d49-4ce2-9c25-36d9178d5995  2023-01-12   \n9   5092b4d1-da03-44ae-b984-0fd8c9294adf  2022-11-08   \n10  8899ea10-3d3f-4e30-907a-b517b4434663  2022-12-15   \n11  58d6e1c8-52d2-4fa5-be77-c4eaa9c1952a  2022-11-15   \n12  97478bab-9ddb-4a23-891f-29133dffce10  2022-12-16   \n13  c059e77c-dba9-4b5a-ae3b-19edf64cc282  2022-12-05   \n14  be4f0acb-63f8-4172-bb26-aaa79c7672c6  2022-11-25   \n15  3a036ddc-6287-4e88-9423-1251df2a7121  2022-11-16   \n16  4c000d17-087b-4d47-8786-9490e214ccf6  2022-12-07   \n17  faa0ccc7-b365-41a0-a627-20ceeba89413  2022-11-07   \n18  eb9d050e-ca6b-410e-a1ec-ff8ca193361f  2022-12-04   \n19  71411236-0f99-4166-b1bf-3fbbd1cb7703  2022-11-08   \n\n                                 user_id  is_blocked  transaction_amount  \\\n0   b3fe5fc1-3b75-41c6-aff0-3f6aa07c42bd        True               57.72   \n1   b3fe5fc1-3b75-41c6-aff0-3f6aa07c42bd        True               47.02   \n2   b3fe5fc1-3b75-41c6-aff0-3f6aa07c42bd        True               21.68   \n3   b3fe5fc1-3b75-41c6-aff0-3f6aa07c42bd        True               96.93   \n4   b3fe5fc1-3b75-41c6-aff0-3f6aa07c42bd        True               40.19   \n5   b3fe5fc1-3b75-41c6-aff0-3f6aa07c42bd        True               15.37   \n6   b3fe5fc1-3b75-41c6-aff0-3f6aa07c42bd        True               43.10   \n7   b3fe5fc1-3b75-41c6-aff0-3f6aa07c42bd        True               18.70   \n8   b3fe5fc1-3b75-41c6-aff0-3f6aa07c42bd        True               69.52   \n9   b3fe5fc1-3b75-41c6-aff0-3f6aa07c42bd        True               65.18   \n10  b3fe5fc1-3b75-41c6-aff0-3f6aa07c42bd        True               97.31   \n11  b3fe5fc1-3b75-41c6-aff0-3f6aa07c42bd        True               86.70   \n12  b3fe5fc1-3b75-41c6-aff0-3f6aa07c42bd        True               35.65   \n13  b3fe5fc1-3b75-41c6-aff0-3f6aa07c42bd        True                0.08   \n14  b3fe5fc1-3b75-41c6-aff0-3f6aa07c42bd        True               11.01   \n15  b3fe5fc1-3b75-41c6-aff0-3f6aa07c42bd        True               27.13   \n16  b3fe5fc1-3b75-41c6-aff0-3f6aa07c42bd        True               45.44   \n17  b3fe5fc1-3b75-41c6-aff0-3f6aa07c42bd        True               47.14   \n18  b3fe5fc1-3b75-41c6-aff0-3f6aa07c42bd        True               64.82   \n19  b3fe5fc1-3b75-41c6-aff0-3f6aa07c42bd        True               53.81   \n\n    transaction_category_id  is_active  \n0                         2       True  \n1                         0       True  \n2                         5       True  \n3                         4       True  \n4                         9       True  \n5                         2       True  \n6                         8       True  \n7                         7       True  \n8                         7       True  \n9                         7       True  \n10                        6       True  \n11                        8       True  \n12                       10       True  \n13                       10       True  \n14                        3       True  \n15                        1       True  \n16                        1       True  \n17                        2       True  \n18                       10       True  \n19                        6       True  ",
            "text/html": "<div>\n<style scoped>\n    .dataframe tbody tr th:only-of-type {\n        vertical-align: middle;\n    }\n\n    .dataframe tbody tr th {\n        vertical-align: top;\n    }\n\n    .dataframe thead th {\n        text-align: right;\n    }\n</style>\n<table border=\"1\" class=\"dataframe\">\n  <thead>\n    <tr style=\"text-align: right;\">\n      <th></th>\n      <th>transaction_id</th>\n      <th>date</th>\n      <th>user_id</th>\n      <th>is_blocked</th>\n      <th>transaction_amount</th>\n      <th>transaction_category_id</th>\n      <th>is_active</th>\n    </tr>\n  </thead>\n  <tbody>\n    <tr>\n      <th>0</th>\n      <td>68f48913-8ff7-48ed-a674-694a25e8f014</td>\n      <td>2023-02-08</td>\n      <td>b3fe5fc1-3b75-41c6-aff0-3f6aa07c42bd</td>\n      <td>True</td>\n      <td>57.72</td>\n      <td>2</td>\n      <td>True</td>\n    </tr>\n    <tr>\n      <th>1</th>\n      <td>9159aee1-33f8-485e-909d-e44d0aeb0b50</td>\n      <td>2022-12-06</td>\n      <td>b3fe5fc1-3b75-41c6-aff0-3f6aa07c42bd</td>\n      <td>True</td>\n      <td>47.02</td>\n      <td>0</td>\n      <td>True</td>\n    </tr>\n    <tr>\n      <th>2</th>\n      <td>d19ab32a-dd56-4e1a-9070-f074536643b5</td>\n      <td>2023-01-19</td>\n      <td>b3fe5fc1-3b75-41c6-aff0-3f6aa07c42bd</td>\n      <td>True</td>\n      <td>21.68</td>\n      <td>5</td>\n      <td>True</td>\n    </tr>\n    <tr>\n      <th>3</th>\n      <td>32d6d663-09fa-465e-b221-c2df35a7687f</td>\n      <td>2023-01-25</td>\n      <td>b3fe5fc1-3b75-41c6-aff0-3f6aa07c42bd</td>\n      <td>True</td>\n      <td>96.93</td>\n      <td>4</td>\n      <td>True</td>\n    </tr>\n    <tr>\n      <th>4</th>\n      <td>e8d68603-cd6b-4726-89fc-adc784a15042</td>\n      <td>2022-12-21</td>\n      <td>b3fe5fc1-3b75-41c6-aff0-3f6aa07c42bd</td>\n      <td>True</td>\n      <td>40.19</td>\n      <td>9</td>\n      <td>True</td>\n    </tr>\n    <tr>\n      <th>5</th>\n      <td>89e1861c-f630-4f45-9fc7-ede9512245b8</td>\n      <td>2023-01-12</td>\n      <td>b3fe5fc1-3b75-41c6-aff0-3f6aa07c42bd</td>\n      <td>True</td>\n      <td>15.37</td>\n      <td>2</td>\n      <td>True</td>\n    </tr>\n    <tr>\n      <th>6</th>\n      <td>c477c21f-c260-4b2c-9ba3-6e1a90a1071e</td>\n      <td>2022-12-25</td>\n      <td>b3fe5fc1-3b75-41c6-aff0-3f6aa07c42bd</td>\n      <td>True</td>\n      <td>43.10</td>\n      <td>8</td>\n      <td>True</td>\n    </tr>\n    <tr>\n      <th>7</th>\n      <td>64dde5d1-8e47-4eea-ac77-84b6cef71289</td>\n      <td>2023-01-18</td>\n      <td>b3fe5fc1-3b75-41c6-aff0-3f6aa07c42bd</td>\n      <td>True</td>\n      <td>18.70</td>\n      <td>7</td>\n      <td>True</td>\n    </tr>\n    <tr>\n      <th>8</th>\n      <td>bae555fc-6d49-4ce2-9c25-36d9178d5995</td>\n      <td>2023-01-12</td>\n      <td>b3fe5fc1-3b75-41c6-aff0-3f6aa07c42bd</td>\n      <td>True</td>\n      <td>69.52</td>\n      <td>7</td>\n      <td>True</td>\n    </tr>\n    <tr>\n      <th>9</th>\n      <td>5092b4d1-da03-44ae-b984-0fd8c9294adf</td>\n      <td>2022-11-08</td>\n      <td>b3fe5fc1-3b75-41c6-aff0-3f6aa07c42bd</td>\n      <td>True</td>\n      <td>65.18</td>\n      <td>7</td>\n      <td>True</td>\n    </tr>\n    <tr>\n      <th>10</th>\n      <td>8899ea10-3d3f-4e30-907a-b517b4434663</td>\n      <td>2022-12-15</td>\n      <td>b3fe5fc1-3b75-41c6-aff0-3f6aa07c42bd</td>\n      <td>True</td>\n      <td>97.31</td>\n      <td>6</td>\n      <td>True</td>\n    </tr>\n    <tr>\n      <th>11</th>\n      <td>58d6e1c8-52d2-4fa5-be77-c4eaa9c1952a</td>\n      <td>2022-11-15</td>\n      <td>b3fe5fc1-3b75-41c6-aff0-3f6aa07c42bd</td>\n      <td>True</td>\n      <td>86.70</td>\n      <td>8</td>\n      <td>True</td>\n    </tr>\n    <tr>\n      <th>12</th>\n      <td>97478bab-9ddb-4a23-891f-29133dffce10</td>\n      <td>2022-12-16</td>\n      <td>b3fe5fc1-3b75-41c6-aff0-3f6aa07c42bd</td>\n      <td>True</td>\n      <td>35.65</td>\n      <td>10</td>\n      <td>True</td>\n    </tr>\n    <tr>\n      <th>13</th>\n      <td>c059e77c-dba9-4b5a-ae3b-19edf64cc282</td>\n      <td>2022-12-05</td>\n      <td>b3fe5fc1-3b75-41c6-aff0-3f6aa07c42bd</td>\n      <td>True</td>\n      <td>0.08</td>\n      <td>10</td>\n      <td>True</td>\n    </tr>\n    <tr>\n      <th>14</th>\n      <td>be4f0acb-63f8-4172-bb26-aaa79c7672c6</td>\n      <td>2022-11-25</td>\n      <td>b3fe5fc1-3b75-41c6-aff0-3f6aa07c42bd</td>\n      <td>True</td>\n      <td>11.01</td>\n      <td>3</td>\n      <td>True</td>\n    </tr>\n    <tr>\n      <th>15</th>\n      <td>3a036ddc-6287-4e88-9423-1251df2a7121</td>\n      <td>2022-11-16</td>\n      <td>b3fe5fc1-3b75-41c6-aff0-3f6aa07c42bd</td>\n      <td>True</td>\n      <td>27.13</td>\n      <td>1</td>\n      <td>True</td>\n    </tr>\n    <tr>\n      <th>16</th>\n      <td>4c000d17-087b-4d47-8786-9490e214ccf6</td>\n      <td>2022-12-07</td>\n      <td>b3fe5fc1-3b75-41c6-aff0-3f6aa07c42bd</td>\n      <td>True</td>\n      <td>45.44</td>\n      <td>1</td>\n      <td>True</td>\n    </tr>\n    <tr>\n      <th>17</th>\n      <td>faa0ccc7-b365-41a0-a627-20ceeba89413</td>\n      <td>2022-11-07</td>\n      <td>b3fe5fc1-3b75-41c6-aff0-3f6aa07c42bd</td>\n      <td>True</td>\n      <td>47.14</td>\n      <td>2</td>\n      <td>True</td>\n    </tr>\n    <tr>\n      <th>18</th>\n      <td>eb9d050e-ca6b-410e-a1ec-ff8ca193361f</td>\n      <td>2022-12-04</td>\n      <td>b3fe5fc1-3b75-41c6-aff0-3f6aa07c42bd</td>\n      <td>True</td>\n      <td>64.82</td>\n      <td>10</td>\n      <td>True</td>\n    </tr>\n    <tr>\n      <th>19</th>\n      <td>71411236-0f99-4166-b1bf-3fbbd1cb7703</td>\n      <td>2022-11-08</td>\n      <td>b3fe5fc1-3b75-41c6-aff0-3f6aa07c42bd</td>\n      <td>True</td>\n      <td>53.81</td>\n      <td>6</td>\n      <td>True</td>\n    </tr>\n  </tbody>\n</table>\n</div>"
          },
          "metadata": {}
        }
      ]
    },
    {
      "cell_type": "code",
      "source": "users.count()",
      "metadata": {
        "trusted": true
      },
      "execution_count": 20,
      "outputs": [
        {
          "execution_count": 20,
          "output_type": "execute_result",
          "data": {
            "text/plain": "user_id      1000\nis_active    1000\ndtype: int64"
          },
          "metadata": {}
        }
      ]
    },
    {
      "cell_type": "code",
      "source": "users.value_counts()",
      "metadata": {
        "trusted": true
      },
      "execution_count": 21,
      "outputs": [
        {
          "execution_count": 21,
          "output_type": "execute_result",
          "data": {
            "text/plain": "user_id                               is_active\n003ab256-41d2-4879-8187-d7c9dab65193  False        1\nb0ed1d07-4014-4b8c-85b7-021106022aec  True         1\nace760f5-90e1-46d5-ba0c-ecf3f30ae02d  True         1\nacec0bca-7a70-4c8a-82ef-73db824d8c82  True         1\nad116642-83e9-486b-bd50-0cec5324f6e1  True         1\n                                                  ..\n53b86076-bb02-4d12-a910-92cbaf3d1082  True         1\n53d88ae1-3c23-4ab5-9607-b322bf7f6697  True         1\n53ebc21c-5c1a-46f0-ab34-7081c23b0a8f  True         1\n53fb914c-d1c0-4f0d-b87f-37d214f6217b  False        1\nfffa1ddd-18a5-49f9-bfda-f0a7cca794f8  True         1\nLength: 1000, dtype: int64"
          },
          "metadata": {}
        }
      ]
    },
    {
      "cell_type": "code",
      "source": "users.drop_duplicates().count()",
      "metadata": {
        "trusted": true
      },
      "execution_count": 22,
      "outputs": [
        {
          "execution_count": 22,
          "output_type": "execute_result",
          "data": {
            "text/plain": "user_id      1000\nis_active    1000\ndtype: int64"
          },
          "metadata": {}
        }
      ]
    },
    {
      "cell_type": "code",
      "source": "transactions.count()",
      "metadata": {
        "trusted": true
      },
      "execution_count": 23,
      "outputs": [
        {
          "execution_count": 23,
          "output_type": "execute_result",
          "data": {
            "text/plain": "transaction_id             100000\ndate                       100000\nuser_id                    100000\nis_blocked                 100000\ntransaction_amount         100000\ntransaction_category_id    100000\ndtype: int64"
          },
          "metadata": {}
        }
      ]
    },
    {
      "cell_type": "code",
      "source": "users.drop_duplicates().count()",
      "metadata": {
        "trusted": true
      },
      "execution_count": 24,
      "outputs": [
        {
          "execution_count": 24,
          "output_type": "execute_result",
          "data": {
            "text/plain": "user_id      1000\nis_active    1000\ndtype: int64"
          },
          "metadata": {}
        }
      ]
    },
    {
      "cell_type": "code",
      "source": "df_users_trans_filt.count()",
      "metadata": {
        "trusted": true
      },
      "execution_count": 30,
      "outputs": [
        {
          "execution_count": 30,
          "output_type": "execute_result",
          "data": {
            "text/plain": "transaction_id             888\ndate                       888\nuser_id                    888\nis_blocked                 888\ntransaction_amount         888\ntransaction_category_id    888\nis_active                  888\ndtype: int64"
          },
          "metadata": {}
        }
      ]
    },
    {
      "cell_type": "code",
      "source": "df_users_trans_filt.drop_duplicates().count()",
      "metadata": {
        "trusted": true
      },
      "execution_count": 31,
      "outputs": [
        {
          "execution_count": 31,
          "output_type": "execute_result",
          "data": {
            "text/plain": "transaction_id             888\ndate                       888\nuser_id                    888\nis_blocked                 888\ntransaction_amount         888\ntransaction_category_id    888\nis_active                  888\ndtype: int64"
          },
          "metadata": {}
        }
      ]
    },
    {
      "cell_type": "code",
      "source": "df_users_trans_filt_grp.value_counts()",
      "metadata": {
        "trusted": true
      },
      "execution_count": 32,
      "outputs": [
        {
          "execution_count": 32,
          "output_type": "execute_result",
          "data": {
            "text/plain": "sum_amount  num_users\n3211.45     65           1\n3437.64     73           1\n3632.69     70           1\n3802.57     75           1\n4145.43     81           1\n4234.57     79           1\n4266.97     83           1\n4345.35     85           1\n4397.26     75           1\n4504.52     82           1\n4761.68     89           1\ndtype: int64"
          },
          "metadata": {}
        }
      ]
    }
  ]
}